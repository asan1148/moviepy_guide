{
 "cells": [
  {
   "cell_type": "code",
   "execution_count": 1,
   "metadata": {},
   "outputs": [],
   "source": [
    "from moviepy.editor import TextClip"
   ]
  },
  {
   "cell_type": "code",
   "execution_count": 4,
   "metadata": {},
   "outputs": [
    {
     "data": {
      "text/plain": [
       "\u001b[0;31mSignature:\u001b[0m \u001b[0mTextClip\u001b[0m\u001b[0;34m.\u001b[0m\u001b[0msearch\u001b[0m\u001b[0;34m(\u001b[0m\u001b[0mstring\u001b[0m\u001b[0;34m,\u001b[0m \u001b[0marg\u001b[0m\u001b[0;34m)\u001b[0m\u001b[0;34m\u001b[0m\u001b[0;34m\u001b[0m\u001b[0m\n",
       "\u001b[0;31mDocstring:\u001b[0m\n",
       "Returns the of all valid entries which contain ``string`` for the\n",
       "argument ``arg`` of ``TextClip``, for instance\n",
       "\n",
       ">>> # Find all the available fonts which contain \"Courier\"\n",
       ">>> print ( TextClip.search('Courier', 'font') )\n",
       "\u001b[0;31mFile:\u001b[0m      /usr/local/lib/python3.7/dist-packages/moviepy/video/VideoClip.py\n",
       "\u001b[0;31mType:\u001b[0m      function\n"
      ]
     },
     "metadata": {},
     "output_type": "display_data"
    }
   ],
   "source": [
    "TextClip.search?"
   ]
  },
  {
   "cell_type": "code",
   "execution_count": 8,
   "metadata": {},
   "outputs": [
    {
     "data": {
      "text/plain": [
       "['WenQuanYi-Bitmap-Song',\n",
       " 'WenQuanYi-Micro-Hei',\n",
       " 'WenQuanYi-Zen-Hei',\n",
       " 'WenQuanYi-Zen-Hei-Mono',\n",
       " 'WenQuanYi-Zen-Hei-Sharp']"
      ]
     },
     "execution_count": 8,
     "metadata": {},
     "output_type": "execute_result"
    }
   ],
   "source": [
    "TextClip.search('wen','font')"
   ]
  },
  {
   "cell_type": "code",
   "execution_count": 7,
   "metadata": {},
   "outputs": [
    {
     "data": {
      "text/plain": [
       "\u001b[0;31mSignature:\u001b[0m \u001b[0mTextClip\u001b[0m\u001b[0;34m.\u001b[0m\u001b[0mlist\u001b[0m\u001b[0;34m(\u001b[0m\u001b[0marg\u001b[0m\u001b[0;34m)\u001b[0m\u001b[0;34m\u001b[0m\u001b[0;34m\u001b[0m\u001b[0m\n",
       "\u001b[0;31mDocstring:\u001b[0m\n",
       "Returns the list of all valid entries for the argument of\n",
       "``TextClip`` given (can be ``font``, ``color``, etc...) \n",
       "\u001b[0;31mFile:\u001b[0m      /usr/local/lib/python3.7/dist-packages/moviepy/video/VideoClip.py\n",
       "\u001b[0;31mType:\u001b[0m      function\n"
      ]
     },
     "metadata": {},
     "output_type": "display_data"
    }
   ],
   "source": [
    "TextClip.list?"
   ]
  },
  {
   "cell_type": "code",
   "execution_count": 9,
   "metadata": {},
   "outputs": [
    {
     "data": {
      "text/plain": [
       "['AvantGarde-Book',\n",
       " 'AvantGarde-BookOblique',\n",
       " 'AvantGarde-Demi',\n",
       " 'AvantGarde-DemiOblique',\n",
       " 'Bookman-Demi',\n",
       " 'Bookman-DemiItalic',\n",
       " 'Bookman-Light',\n",
       " 'Bookman-LightItalic',\n",
       " 'Courier',\n",
       " 'Courier-Bold',\n",
       " 'Courier-BoldOblique',\n",
       " 'Courier-Oblique',\n",
       " 'fixed',\n",
       " 'Helvetica',\n",
       " 'Helvetica-Bold',\n",
       " 'Helvetica-BoldOblique',\n",
       " 'Helvetica-Narrow',\n",
       " 'Helvetica-Narrow-Bold',\n",
       " 'Helvetica-Narrow-BoldOblique',\n",
       " 'Helvetica-Narrow-Oblique',\n",
       " 'Helvetica-Oblique',\n",
       " 'NewCenturySchlbk-Bold',\n",
       " 'NewCenturySchlbk-BoldItalic',\n",
       " 'NewCenturySchlbk-Italic',\n",
       " 'NewCenturySchlbk-Roman',\n",
       " 'Palatino-Bold',\n",
       " 'Palatino-BoldItalic',\n",
       " 'Palatino-Italic',\n",
       " 'Palatino-Roman',\n",
       " 'Symbol',\n",
       " 'Times-Bold',\n",
       " 'Times-BoldItalic',\n",
       " 'Times-Italic',\n",
       " 'Times-Roman',\n",
       " 'Century-Schoolbook-L-Bold',\n",
       " 'Century-Schoolbook-L-Bold-Italic',\n",
       " 'Century-Schoolbook-L-Italic',\n",
       " 'Century-Schoolbook-L-Roman',\n",
       " 'DejaVu-Sans',\n",
       " 'DejaVu-Sans-Bold',\n",
       " 'DejaVu-Sans-Mono',\n",
       " 'DejaVu-Sans-Mono-Bold',\n",
       " 'DejaVu-Serif',\n",
       " 'DejaVu-Serif-Bold',\n",
       " 'Dingbats',\n",
       " 'Droid-Sans-Fallback',\n",
       " 'Microsoft-YaHei',\n",
       " 'Nimbus-Mono-L',\n",
       " 'Nimbus-Mono-L-Bold',\n",
       " 'Nimbus-Mono-L-Bold-Oblique',\n",
       " 'Nimbus-Mono-L-Regular-Oblique',\n",
       " 'Nimbus-Roman-No9-L',\n",
       " 'Nimbus-Roman-No9-L-Medium',\n",
       " 'Nimbus-Roman-No9-L-Medium-Italic',\n",
       " 'Nimbus-Roman-No9-L-Regular-Italic',\n",
       " 'Nimbus-Sans-L',\n",
       " 'Nimbus-Sans-L-Bold',\n",
       " 'Nimbus-Sans-L-Bold-Condensed',\n",
       " 'Nimbus-Sans-L-Bold-Condensed-Italic',\n",
       " 'Nimbus-Sans-L-Bold-Italic',\n",
       " 'Nimbus-Sans-L-Regular-Condensed',\n",
       " 'Nimbus-Sans-L-Regular-Condensed-Italic',\n",
       " 'Nimbus-Sans-L-Regular-Italic',\n",
       " 'Noto-Mono',\n",
       " 'Standard-Symbols-L',\n",
       " 'URW-Bookman-L-Demi-Bold',\n",
       " 'URW-Bookman-L-Demi-Bold-Italic',\n",
       " 'URW-Bookman-L-Light',\n",
       " 'URW-Bookman-L-Light-Italic',\n",
       " 'URW-Chancery-L-Medium-Italic',\n",
       " 'URW-Gothic-L-Book',\n",
       " 'URW-Gothic-L-Book-Oblique',\n",
       " 'URW-Gothic-L-Demi',\n",
       " 'URW-Gothic-L-Demi-Oblique',\n",
       " 'URW-Palladio-L-Bold',\n",
       " 'URW-Palladio-L-Bold-Italic',\n",
       " 'URW-Palladio-L-Italic',\n",
       " 'URW-Palladio-L-Roman',\n",
       " 'WenQuanYi-Bitmap-Song',\n",
       " 'WenQuanYi-Micro-Hei',\n",
       " 'WenQuanYi-Zen-Hei',\n",
       " 'WenQuanYi-Zen-Hei-Mono',\n",
       " 'WenQuanYi-Zen-Hei-Sharp']"
      ]
     },
     "execution_count": 9,
     "metadata": {},
     "output_type": "execute_result"
    }
   ],
   "source": [
    "TextClip.list(\"font\")"
   ]
  },
  {
   "cell_type": "code",
   "execution_count": null,
   "metadata": {},
   "outputs": [],
   "source": []
  }
 ],
 "metadata": {
  "kernelspec": {
   "display_name": "Python 3",
   "language": "python",
   "name": "python3"
  },
  "language_info": {
   "codemirror_mode": {
    "name": "ipython",
    "version": 3
   },
   "file_extension": ".py",
   "mimetype": "text/x-python",
   "name": "python",
   "nbconvert_exporter": "python",
   "pygments_lexer": "ipython3",
   "version": "3.7.3"
  }
 },
 "nbformat": 4,
 "nbformat_minor": 4
}
