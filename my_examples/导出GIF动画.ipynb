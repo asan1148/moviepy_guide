{
 "cells": [
  {
   "cell_type": "code",
   "execution_count": 1,
   "metadata": {},
   "outputs": [],
   "source": [
    "from moviepy.editor import VideoFileClip"
   ]
  },
  {
   "cell_type": "code",
   "execution_count": 2,
   "metadata": {},
   "outputs": [],
   "source": [
    "vc=VideoFileClip('../data/banma.mp4')"
   ]
  },
  {
   "cell_type": "code",
   "execution_count": 3,
   "metadata": {},
   "outputs": [
    {
     "data": {
      "text/plain": [
       "\u001b[0;31mSignature:\u001b[0m\n",
       "\u001b[0mvc\u001b[0m\u001b[0;34m.\u001b[0m\u001b[0mwrite_gif\u001b[0m\u001b[0;34m(\u001b[0m\u001b[0;34m\u001b[0m\n",
       "\u001b[0;34m\u001b[0m    \u001b[0mfilename\u001b[0m\u001b[0;34m,\u001b[0m\u001b[0;34m\u001b[0m\n",
       "\u001b[0;34m\u001b[0m    \u001b[0mfps\u001b[0m\u001b[0;34m=\u001b[0m\u001b[0;32mNone\u001b[0m\u001b[0;34m,\u001b[0m\u001b[0;34m\u001b[0m\n",
       "\u001b[0;34m\u001b[0m    \u001b[0mprogram\u001b[0m\u001b[0;34m=\u001b[0m\u001b[0;34m'imageio'\u001b[0m\u001b[0;34m,\u001b[0m\u001b[0;34m\u001b[0m\n",
       "\u001b[0;34m\u001b[0m    \u001b[0mopt\u001b[0m\u001b[0;34m=\u001b[0m\u001b[0;34m'nq'\u001b[0m\u001b[0;34m,\u001b[0m\u001b[0;34m\u001b[0m\n",
       "\u001b[0;34m\u001b[0m    \u001b[0mfuzz\u001b[0m\u001b[0;34m=\u001b[0m\u001b[0;36m1\u001b[0m\u001b[0;34m,\u001b[0m\u001b[0;34m\u001b[0m\n",
       "\u001b[0;34m\u001b[0m    \u001b[0mverbose\u001b[0m\u001b[0;34m=\u001b[0m\u001b[0;32mTrue\u001b[0m\u001b[0;34m,\u001b[0m\u001b[0;34m\u001b[0m\n",
       "\u001b[0;34m\u001b[0m    \u001b[0mloop\u001b[0m\u001b[0;34m=\u001b[0m\u001b[0;36m0\u001b[0m\u001b[0;34m,\u001b[0m\u001b[0;34m\u001b[0m\n",
       "\u001b[0;34m\u001b[0m    \u001b[0mdispose\u001b[0m\u001b[0;34m=\u001b[0m\u001b[0;32mFalse\u001b[0m\u001b[0;34m,\u001b[0m\u001b[0;34m\u001b[0m\n",
       "\u001b[0;34m\u001b[0m    \u001b[0mcolors\u001b[0m\u001b[0;34m=\u001b[0m\u001b[0;32mNone\u001b[0m\u001b[0;34m,\u001b[0m\u001b[0;34m\u001b[0m\n",
       "\u001b[0;34m\u001b[0m    \u001b[0mtempfiles\u001b[0m\u001b[0;34m=\u001b[0m\u001b[0;32mFalse\u001b[0m\u001b[0;34m,\u001b[0m\u001b[0;34m\u001b[0m\n",
       "\u001b[0;34m\u001b[0m    \u001b[0mlogger\u001b[0m\u001b[0;34m=\u001b[0m\u001b[0;34m'bar'\u001b[0m\u001b[0;34m,\u001b[0m\u001b[0;34m\u001b[0m\n",
       "\u001b[0;34m\u001b[0m\u001b[0;34m)\u001b[0m\u001b[0;34m\u001b[0m\u001b[0;34m\u001b[0m\u001b[0m\n",
       "\u001b[0;31mDocstring:\u001b[0m\n",
       "Write the VideoClip to a GIF file.\n",
       "\n",
       "Converts a VideoClip into an animated GIF using ImageMagick\n",
       "or ffmpeg.\n",
       "\n",
       "Parameters\n",
       "-----------\n",
       "\n",
       "filename\n",
       "  Name of the resulting gif file.\n",
       "\n",
       "fps\n",
       "  Number of frames per second (see note below). If it\n",
       "  isn't provided, then the function will look for the clip's\n",
       "  ``fps`` attribute (VideoFileClip, for instance, have one).\n",
       "\n",
       "program\n",
       "  Software to use for the conversion, either 'imageio' (this will use\n",
       "  the library FreeImage through ImageIO), or 'ImageMagick', or 'ffmpeg'.\n",
       "\n",
       "opt\n",
       "  Optimalization to apply. If program='imageio', opt must be either 'wu'\n",
       "  (Wu) or 'nq' (Neuquant). If program='ImageMagick',\n",
       "  either 'optimizeplus' or 'OptimizeTransparency'.\n",
       "\n",
       "fuzz\n",
       "  (ImageMagick only) Compresses the GIF by considering that\n",
       "  the colors that are less than fuzz% different are in fact\n",
       "  the same.\n",
       "\n",
       "tempfiles\n",
       "  Writes every frame to a file instead of passing them in the RAM.\n",
       "  Useful on computers with little RAM. Can only be used with\n",
       "  ImageMagick' or 'ffmpeg'.\n",
       "\n",
       "progress_bar\n",
       "  If True, displays a progress bar\n",
       "\n",
       "\n",
       "Notes\n",
       "-----\n",
       "\n",
       "The gif will be playing the clip in real time (you can\n",
       "only change the frame rate). If you want the gif to be played\n",
       "slower than the clip you will use ::\n",
       "\n",
       "    >>> # slow down clip 50% and make it a gif\n",
       "    >>> myClip.speedx(0.5).to_gif('myClip.gif')\n",
       "\u001b[0;31mFile:\u001b[0m      /usr/local/lib/python3.7/dist-packages/moviepy/video/VideoClip.py\n",
       "\u001b[0;31mType:\u001b[0m      method\n"
      ]
     },
     "metadata": {},
     "output_type": "display_data"
    }
   ],
   "source": [
    "vc.write_gif?"
   ]
  },
  {
   "cell_type": "code",
   "execution_count": 6,
   "metadata": {},
   "outputs": [
    {
     "name": "stderr",
     "output_type": "stream",
     "text": [
      "t:  15%|█▍        | 240/1634 [04:14<03:13,  7.19it/s, now=None]\n",
      "t:   0%|          | 0/30 [00:00<?, ?it/s, now=None]\u001b[A\n",
      "t:  10%|█         | 3/30 [00:00<00:01, 23.77it/s, now=None]\u001b[A"
     ]
    },
    {
     "name": "stdout",
     "output_type": "stream",
     "text": [
      "MoviePy - Building file banma.gif with imageio.\n"
     ]
    },
    {
     "name": "stderr",
     "output_type": "stream",
     "text": [
      "\n",
      "t:  17%|█▋        | 5/30 [00:00<00:01, 19.56it/s, now=None]\u001b[A\n",
      "t:  23%|██▎       | 7/30 [00:00<00:01, 17.88it/s, now=None]\u001b[A\n",
      "t:  30%|███       | 9/30 [00:00<00:01, 16.82it/s, now=None]\u001b[A\n",
      "t:  37%|███▋      | 11/30 [00:00<00:01, 15.17it/s, now=None]\u001b[A\n",
      "t:  43%|████▎     | 13/30 [00:00<00:01, 14.28it/s, now=None]\u001b[A\n",
      "t:  50%|█████     | 15/30 [00:01<00:01, 13.49it/s, now=None]\u001b[A\n",
      "t:  57%|█████▋    | 17/30 [00:02<00:02,  4.45it/s, now=None]\u001b[A\n",
      "t:  63%|██████▎   | 19/30 [00:02<00:01,  5.53it/s, now=None]\u001b[A\n",
      "t:  70%|███████   | 21/30 [00:02<00:01,  6.86it/s, now=None]\u001b[A\n",
      "t:  77%|███████▋  | 23/30 [00:02<00:00,  8.13it/s, now=None]\u001b[A\n",
      "t:  83%|████████▎ | 25/30 [00:02<00:00,  9.25it/s, now=None]\u001b[A\n",
      "t:  90%|█████████ | 27/30 [00:02<00:00, 10.15it/s, now=None]\u001b[A\n",
      "t:  97%|█████████▋| 29/30 [00:03<00:00, 10.83it/s, now=None]\u001b[A\n",
      "                                                            \u001b[A"
     ]
    }
   ],
   "source": [
    "vc.subclip(t_start=5,t_end=10).write_gif('banma.gif',fps=6)"
   ]
  },
  {
   "cell_type": "code",
   "execution_count": null,
   "metadata": {},
   "outputs": [],
   "source": []
  }
 ],
 "metadata": {
  "kernelspec": {
   "display_name": "Python 3",
   "language": "python",
   "name": "python3"
  },
  "language_info": {
   "codemirror_mode": {
    "name": "ipython",
    "version": 3
   },
   "file_extension": ".py",
   "mimetype": "text/x-python",
   "name": "python",
   "nbconvert_exporter": "python",
   "pygments_lexer": "ipython3",
   "version": "3.7.3"
  }
 },
 "nbformat": 4,
 "nbformat_minor": 4
}
