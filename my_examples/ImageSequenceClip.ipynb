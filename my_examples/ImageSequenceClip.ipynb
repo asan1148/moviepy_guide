{
 "cells": [
  {
   "cell_type": "markdown",
   "metadata": {},
   "source": [
    "参考\n",
    "https://blog.csdn.net/ucsheep/article/details/82768560"
   ]
  },
  {
   "cell_type": "markdown",
   "metadata": {},
   "source": []
  },
  {
   "cell_type": "code",
   "execution_count": 4,
   "metadata": {},
   "outputs": [],
   "source": [
    "from moviepy.editor import ImageSequenceClip\n",
    "import os"
   ]
  },
  {
   "cell_type": "code",
   "execution_count": 8,
   "metadata": {},
   "outputs": [
    {
     "data": {
      "text/plain": [
       "['../../TTS/images/1.jpeg',\n",
       " '../../TTS/images/12.jpg',\n",
       " '../../TTS/images/13.jpg',\n",
       " '../../TTS/images/2.jpeg',\n",
       " '../../TTS/images/21.png',\n",
       " '../../TTS/images/22.jpg',\n",
       " '../../TTS/images/3.jpeg',\n",
       " '../../TTS/images/4.jpeg',\n",
       " '../../TTS/images/5.jpeg',\n",
       " '../../TTS/images/51.jpg',\n",
       " '../../TTS/images/52.webp',\n",
       " '../../TTS/images/53.jpg',\n",
       " '../../TTS/images/6.jpeg']"
      ]
     },
     "execution_count": 8,
     "metadata": {},
     "output_type": "execute_result"
    }
   ],
   "source": [
    "images=[f'../../TTS/images/{img}' for img in os.listdir('../../TTS/images') if img[0].isdigit()]\n",
    "images=sorted(images)\n",
    "images_list=images\n",
    "images\n"
   ]
  },
  {
   "cell_type": "code",
   "execution_count": 10,
   "metadata": {},
   "outputs": [
    {
     "ename": "Exception",
     "evalue": "Moviepy: ImageSequenceClip requires all images to be the same size",
     "output_type": "error",
     "traceback": [
      "\u001b[0;31m---------------------------------------------------------------------------\u001b[0m",
      "\u001b[0;31mException\u001b[0m                                 Traceback (most recent call last)",
      "\u001b[0;32m<ipython-input-10-4a41d0f3fbd1>\u001b[0m in \u001b[0;36m<module>\u001b[0;34m\u001b[0m\n\u001b[0;32m----> 1\u001b[0;31m \u001b[0mclip\u001b[0m \u001b[0;34m=\u001b[0m \u001b[0mImageSequenceClip\u001b[0m\u001b[0;34m(\u001b[0m\u001b[0mimages_list\u001b[0m\u001b[0;34m,\u001b[0m \u001b[0mfps\u001b[0m\u001b[0;34m=\u001b[0m\u001b[0;36m25\u001b[0m\u001b[0;34m)\u001b[0m\u001b[0;34m\u001b[0m\u001b[0;34m\u001b[0m\u001b[0m\n\u001b[0m\u001b[1;32m      2\u001b[0m \u001b[0;31m# ImageSequenceClip requires all images to be the same size\u001b[0m\u001b[0;34m\u001b[0m\u001b[0;34m\u001b[0m\u001b[0;34m\u001b[0m\u001b[0m\n",
      "\u001b[0;32m/usr/local/lib/python3.7/dist-packages/moviepy/video/io/ImageSequenceClip.py\u001b[0m in \u001b[0;36m__init__\u001b[0;34m(self, sequence, fps, durations, with_mask, ismask, load_images)\u001b[0m\n\u001b[1;32m     88\u001b[0m                \u001b[0mimage1\u001b[0m\u001b[0;34m=\u001b[0m\u001b[0mimread\u001b[0m\u001b[0;34m(\u001b[0m\u001b[0mimage\u001b[0m\u001b[0;34m)\u001b[0m\u001b[0;34m\u001b[0m\u001b[0;34m\u001b[0m\u001b[0m\n\u001b[1;32m     89\u001b[0m             \u001b[0;32mif\u001b[0m \u001b[0msize\u001b[0m \u001b[0;34m!=\u001b[0m \u001b[0mimage1\u001b[0m\u001b[0;34m.\u001b[0m\u001b[0mshape\u001b[0m\u001b[0;34m:\u001b[0m\u001b[0;34m\u001b[0m\u001b[0;34m\u001b[0m\u001b[0m\n\u001b[0;32m---> 90\u001b[0;31m                \u001b[0;32mraise\u001b[0m \u001b[0mException\u001b[0m\u001b[0;34m(\u001b[0m\u001b[0;34m\"Moviepy: ImageSequenceClip requires all images to be the same size\"\u001b[0m\u001b[0;34m)\u001b[0m\u001b[0;34m\u001b[0m\u001b[0;34m\u001b[0m\u001b[0m\n\u001b[0m\u001b[1;32m     91\u001b[0m \u001b[0;34m\u001b[0m\u001b[0m\n\u001b[1;32m     92\u001b[0m \u001b[0;34m\u001b[0m\u001b[0m\n",
      "\u001b[0;31mException\u001b[0m: Moviepy: ImageSequenceClip requires all images to be the same size"
     ]
    }
   ],
   "source": [
    "clip = ImageSequenceClip(images_list, fps=25)\n",
    "# ImageSequenceClip requires all images to be the same size"
   ]
  },
  {
   "cell_type": "code",
   "execution_count": null,
   "metadata": {},
   "outputs": [],
   "source": [
    "images_list可以有三种形式：\n",
    "\n",
    "图片name list，将会按照list顺序播放\n",
    "一个目录，这个目录下面的所有的图片都会被播放，按照字母或者数字的顺序播放\n",
    "一系列frames (Numpy arrays)，从其他的clip剪辑得到的，顺序是按照list顺序播放\n",
    "当我们使用第一种或者第二种的时候，我们可以通过选择load_images=True来指定是否将所有的图片直接加载到RAM中。当然，这样的操作仅仅是在我们的图片不是很多，且每张图片都被使用超过1次的时候。\n"
   ]
  },
  {
   "cell_type": "code",
   "execution_count": 7,
   "metadata": {},
   "outputs": [
    {
     "data": {
      "text/plain": [
       "\u001b[0;31mInit signature:\u001b[0m\n",
       "\u001b[0mImageSequenceClip\u001b[0m\u001b[0;34m(\u001b[0m\u001b[0;34m\u001b[0m\n",
       "\u001b[0;34m\u001b[0m    \u001b[0msequence\u001b[0m\u001b[0;34m,\u001b[0m\u001b[0;34m\u001b[0m\n",
       "\u001b[0;34m\u001b[0m    \u001b[0mfps\u001b[0m\u001b[0;34m=\u001b[0m\u001b[0;32mNone\u001b[0m\u001b[0;34m,\u001b[0m\u001b[0;34m\u001b[0m\n",
       "\u001b[0;34m\u001b[0m    \u001b[0mdurations\u001b[0m\u001b[0;34m=\u001b[0m\u001b[0;32mNone\u001b[0m\u001b[0;34m,\u001b[0m\u001b[0;34m\u001b[0m\n",
       "\u001b[0;34m\u001b[0m    \u001b[0mwith_mask\u001b[0m\u001b[0;34m=\u001b[0m\u001b[0;32mTrue\u001b[0m\u001b[0;34m,\u001b[0m\u001b[0;34m\u001b[0m\n",
       "\u001b[0;34m\u001b[0m    \u001b[0mismask\u001b[0m\u001b[0;34m=\u001b[0m\u001b[0;32mFalse\u001b[0m\u001b[0;34m,\u001b[0m\u001b[0;34m\u001b[0m\n",
       "\u001b[0;34m\u001b[0m    \u001b[0mload_images\u001b[0m\u001b[0;34m=\u001b[0m\u001b[0;32mFalse\u001b[0m\u001b[0;34m,\u001b[0m\u001b[0;34m\u001b[0m\n",
       "\u001b[0;34m\u001b[0m\u001b[0;34m)\u001b[0m\u001b[0;34m\u001b[0m\u001b[0;34m\u001b[0m\u001b[0m\n",
       "\u001b[0;31mDocstring:\u001b[0m     \n",
       "A VideoClip made from a series of images.\n",
       "\n",
       "\n",
       "Parameters\n",
       "-----------\n",
       "\n",
       "sequence\n",
       "  Can be one of these:\n",
       "  - The name of a folder (containing only pictures). The pictures\n",
       "    will be considered in alphanumerical order.\n",
       "  - A list of names of image files. In this case you can choose to\n",
       "    load the pictures in memory pictures \n",
       "  - A list of Numpy arrays representing images. In this last case,\n",
       "    masks are not supported currently.\n",
       "\n",
       "fps\n",
       "  Number of picture frames to read per second. Instead, you can provide\n",
       "  the duration of each image with durations (see below)\n",
       "\n",
       "durations\n",
       "  List of the duration of each picture.\n",
       "\n",
       "with_mask\n",
       "  Should the alpha layer of PNG images be considered as a mask ?\n",
       "\n",
       "ismask\n",
       "  Will this sequence of pictures be used as an animated mask.\n",
       "\n",
       "Notes\n",
       "------\n",
       "\n",
       "If your sequence is made of image files, the only image kept in \n",
       "\u001b[0;31mFile:\u001b[0m           /usr/local/lib/python3.7/dist-packages/moviepy/video/io/ImageSequenceClip.py\n",
       "\u001b[0;31mType:\u001b[0m           type\n",
       "\u001b[0;31mSubclasses:\u001b[0m     \n"
      ]
     },
     "metadata": {},
     "output_type": "display_data"
    }
   ],
   "source": [
    "ImageSequenceClip?"
   ]
  },
  {
   "cell_type": "code",
   "execution_count": null,
   "metadata": {},
   "outputs": [],
   "source": []
  }
 ],
 "metadata": {
  "kernelspec": {
   "display_name": "Python 3",
   "language": "python",
   "name": "python3"
  },
  "language_info": {
   "codemirror_mode": {
    "name": "ipython",
    "version": 3
   },
   "file_extension": ".py",
   "mimetype": "text/x-python",
   "name": "python",
   "nbconvert_exporter": "python",
   "pygments_lexer": "ipython3",
   "version": "3.7.3"
  }
 },
 "nbformat": 4,
 "nbformat_minor": 4
}
